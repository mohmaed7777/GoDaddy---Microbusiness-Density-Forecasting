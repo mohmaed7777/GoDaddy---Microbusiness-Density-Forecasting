{
  "metadata": {
    "kernelspec": {
      "language": "python",
      "display_name": "Python 3",
      "name": "python3"
    },
    "language_info": {
      "name": "python",
      "version": "3.7.12",
      "mimetype": "text/x-python",
      "codemirror_mode": {
        "name": "ipython",
        "version": 3
      },
      "pygments_lexer": "ipython3",
      "nbconvert_exporter": "python",
      "file_extension": ".py"
    },
    "colab": {
      "provenance": [],
      "include_colab_link": true
    }
  },
  "nbformat_minor": 0,
  "nbformat": 4,
  "cells": [
    {
      "cell_type": "markdown",
      "metadata": {
        "id": "view-in-github",
        "colab_type": "text"
      },
      "source": [
        "<a href=\"https://colab.research.google.com/github/mohmaed7777/GoDaddy---Microbusiness-Density-Forecasting/blob/main/godaddy_Soultion.ipynb\" target=\"_parent\"><img src=\"https://colab.research.google.com/assets/colab-badge.svg\" alt=\"Open In Colab\"/></a>"
      ]
    },
    {
      "cell_type": "code",
      "source": [
        "import gc\n",
        "import numpy as np\n",
        "import pandas as pd\n",
        "import os\n",
        "from tqdm.notebook import tqdm\n",
        "BASE = '../input/godaddy-microbusiness-density-forecasting/'\n",
        "\n",
        "def smape(y_true, y_pred):\n",
        "    smap = np.zeros(len(y_true))\n",
        "    \n",
        "    num = np.abs(y_true - y_pred)\n",
        "    dem = ((np.abs(y_true) + np.abs(y_pred)) / 2)\n",
        "    \n",
        "    pos_ind = (y_true!=0)|(y_pred!=0)\n",
        "    smap[pos_ind] = num[pos_ind] / dem[pos_ind]\n",
        "    \n",
        "    return 100 * np.mean(smap)"
      ],
      "metadata": {
        "_cell_guid": "b1076dfc-b9ad-4769-8c92-a6c4dae69d19",
        "_uuid": "8f2839f25d086af736a60e9eeb907d3b93b6e0e5",
        "papermill": {
          "duration": 0.186524,
          "end_time": "2023-03-05T03:24:25.411235",
          "exception": false,
          "start_time": "2023-03-05T03:24:25.224711",
          "status": "completed"
        },
        "tags": [],
        "execution": {
          "iopub.status.busy": "2023-03-25T12:26:20.326300Z",
          "iopub.execute_input": "2023-03-25T12:26:20.327798Z",
          "iopub.status.idle": "2023-03-25T12:26:20.508325Z",
          "shell.execute_reply.started": "2023-03-25T12:26:20.327683Z",
          "shell.execute_reply": "2023-03-25T12:26:20.506946Z"
        },
        "trusted": true,
        "id": "93n5-CiUui8-"
      },
      "execution_count": null,
      "outputs": []
    },
    {
      "cell_type": "code",
      "source": [
        "# Read the three files train (train + revealed test), supplementary data (census data) and test data.\n",
        "train = pd.read_csv(BASE + 'train.csv')\n",
        "reaveal_test = pd.read_csv(BASE + 'revealed_test.csv')\n",
        "#train (train + revealed test)\n",
        "train = pd.concat([train, reaveal_test]).sort_values(by=['cfips','first_day_of_month']).reset_index()\n",
        "\n",
        "census = pd.read_csv(BASE + 'census_starter.csv')\n",
        "test = pd.read_csv(BASE + 'test.csv')\n",
        "\n",
        "# Drop November and December from the test file becuase they were added to the train (revealed_test)\n",
        "drop_index = (test.first_day_of_month == '2022-11-01') | (test.first_day_of_month == '2022-12-01')\n",
        "test = test.loc[~drop_index,:]\n",
        "\n",
        "#Sample Submission\n",
        "sub = pd.read_csv(BASE + 'sample_submission.csv')\n",
        "\n",
        "# Additional Data (USA Counties Coordinates)\n",
        "coords = pd.read_csv(\"/kaggle/input/usa-counties-coordinates/cfips_location.csv\")\n",
        "print(train.shape, test.shape, sub.shape)\n",
        "\n",
        "#Concatenate train and test to make the processing easier\n",
        "train['istest'] = 0\n",
        "test['istest'] = 1\n",
        "raw = pd.concat((train, test)).sort_values(['cfips','row_id']).reset_index(drop=True)\n",
        "\n",
        "#Add the coordinates data\n",
        "raw = raw.merge(coords.drop(\"name\", axis=1), on=\"cfips\")\n",
        "\n",
        "# Some processing (Encoding, filling missings,convert from string to category (requires less memory))\n",
        "raw['state_i1'] = raw['state'].astype('category')\n",
        "raw['county_i1'] = raw['county'].astype('category')\n",
        "raw['first_day_of_month'] = pd.to_datetime(raw[\"first_day_of_month\"])\n",
        "raw['county'] = raw.groupby('cfips')['county'].ffill()\n",
        "raw['state'] = raw.groupby('cfips')['state'].ffill()\n",
        "raw[\"dcount\"] = raw.groupby(['cfips'])['row_id'].cumcount()\n",
        "raw['county_i'] = (raw['county'] + raw['state']).factorize()[0]\n",
        "raw['state_i'] = raw['state'].factorize()[0]\n",
        "raw['scale'] = (raw['first_day_of_month'] - raw['first_day_of_month'].min()).dt.days\n",
        "raw['scale'] = raw['scale'].factorize()[0]\n",
        "\n",
        "# Use the GPU if available\n",
        "os.environ[\"CUDA_VISIBLE_DEVICES\"]=\"0\""
      ],
      "metadata": {
        "papermill": {
          "duration": 1.297262,
          "end_time": "2023-03-05T03:24:26.717377",
          "exception": false,
          "start_time": "2023-03-05T03:24:25.420115",
          "status": "completed"
        },
        "tags": [],
        "execution": {
          "iopub.status.busy": "2023-03-14T20:01:23.876416Z",
          "iopub.execute_input": "2023-03-14T20:01:23.876899Z",
          "iopub.status.idle": "2023-03-14T20:01:24.600098Z",
          "shell.execute_reply.started": "2023-03-14T20:01:23.876875Z",
          "shell.execute_reply": "2023-03-14T20:01:24.598790Z"
        },
        "trusted": true,
        "id": "YasAiU8tui9C",
        "outputId": "eb599c93-ebb2-4141-c8c1-d1fa4d8b6c3e"
      },
      "execution_count": null,
      "outputs": [
        {
          "name": "stdout",
          "text": "(128535, 8) (18810, 3) (25080, 2)\n",
          "output_type": "stream"
        }
      ]
    },
    {
      "cell_type": "markdown",
      "source": [
        "# There are some anomalies, specially at timestep 18"
      ],
      "metadata": {
        "papermill": {
          "duration": 0.009373,
          "end_time": "2023-03-05T03:24:26.735081",
          "exception": false,
          "start_time": "2023-03-05T03:24:26.725708",
          "status": "completed"
        },
        "tags": [],
        "id": "-2wcS9Rjui9G"
      }
    },
    {
      "cell_type": "markdown",
      "source": [
        "The purpose of this cell is to smooth out outliers in the time series, The way it works is that it is checking for any sharp changes in the number of small businesses.\n",
        "It goes through the series indices one at a time and compares the relative change of the current value to the mean of all previous values.\n",
        "If this relative change is too sharp (20%), it smoothes it out by scaling the current value in relation to the previous."
      ],
      "metadata": {
        "id": "6wGyHB3Bui9I"
      }
    },
    {
      "cell_type": "code",
      "source": [
        "for o in tqdm(raw.cfips.unique()): \n",
        "    indices = (raw['cfips'] == o) \n",
        "    tmp = raw.loc[indices].copy().reset_index(drop=True)\n",
        "    var = tmp.microbusiness_density.values.copy()\n",
        "    for i in range(37, 2, -1):\n",
        "        thr = 0.20 * np.mean(var[:i]) \n",
        "        difa = var[i] - var[i - 1] \n",
        "        if (difa >= thr) or (difa <= -thr):              \n",
        "            if difa > 0:\n",
        "                var[:i] += difa - 0.003 \n",
        "            else:\n",
        "                var[:i] += difa + 0.003  \n",
        "    var[0] = var[1] * 0.99\n",
        "    raw.loc[indices, 'microbusiness_density'] = var"
      ],
      "metadata": {
        "papermill": {
          "duration": 8.326296,
          "end_time": "2023-03-05T03:24:35.069261",
          "exception": false,
          "start_time": "2023-03-05T03:24:26.742965",
          "status": "completed"
        },
        "scrolled": true,
        "tags": [],
        "execution": {
          "iopub.status.busy": "2023-03-14T20:01:24.601403Z",
          "iopub.execute_input": "2023-03-14T20:01:24.601668Z",
          "iopub.status.idle": "2023-03-14T20:01:30.886779Z",
          "shell.execute_reply.started": "2023-03-14T20:01:24.601642Z",
          "shell.execute_reply": "2023-03-14T20:01:30.884607Z"
        },
        "trusted": true,
        "colab": {
          "referenced_widgets": [
            "9ca480c299f7423996e78ae32f055255"
          ]
        },
        "id": "T004Vmumui9J",
        "outputId": "13acc9ec-c500-4038-8711-9927fdce76bd"
      },
      "execution_count": null,
      "outputs": [
        {
          "output_type": "display_data",
          "data": {
            "text/plain": "  0%|          | 0/3135 [00:00<?, ?it/s]",
            "application/vnd.jupyter.widget-view+json": {
              "version_major": 2,
              "version_minor": 0,
              "model_id": "9ca480c299f7423996e78ae32f055255"
            }
          },
          "metadata": {}
        }
      ]
    },
    {
      "cell_type": "markdown",
      "source": [
        "# SMAPE is a relative metric so target must be converted."
      ],
      "metadata": {
        "papermill": {
          "duration": 0.007826,
          "end_time": "2023-03-05T03:24:35.135966",
          "exception": false,
          "start_time": "2023-03-05T03:24:35.12814",
          "status": "completed"
        },
        "tags": [],
        "id": "guteY7dmui9K"
      }
    },
    {
      "cell_type": "markdown",
      "source": [
        "Since SMAPE is a relative metric, we would like to predict the rate of change rather than the actual values. This should make our models more robust to the actual scale of the series so we could focus only on the series's rate of change."
      ],
      "metadata": {
        "id": "4MuSgKjgui9K"
      }
    },
    {
      "cell_type": "code",
      "source": [
        "raw['target'] = raw.groupby('cfips')['microbusiness_density'].shift(-1)\n",
        "raw['target'] = raw['target']/raw['microbusiness_density'] - 1\n",
        "\n",
        "\n",
        "#Some Edge Cases\n",
        "raw.loc[raw['cfips']==28055, 'target'] = 0.0\n",
        "raw.loc[raw['cfips']==48269, 'target'] = 0.0\n",
        "\n",
        "raw['lastactive'] = raw.groupby('cfips')['active'].transform('last')"
      ],
      "metadata": {
        "papermill": {
          "duration": 0.031923,
          "end_time": "2023-03-05T03:24:35.176019",
          "exception": false,
          "start_time": "2023-03-05T03:24:35.144096",
          "status": "completed"
        },
        "scrolled": true,
        "tags": [],
        "execution": {
          "iopub.status.busy": "2023-03-14T20:01:30.914907Z",
          "iopub.execute_input": "2023-03-14T20:01:30.916606Z",
          "iopub.status.idle": "2023-03-14T20:01:30.934981Z",
          "shell.execute_reply.started": "2023-03-14T20:01:30.916524Z",
          "shell.execute_reply": "2023-03-14T20:01:30.932742Z"
        },
        "trusted": true,
        "id": "3ngLahSfui9L"
      },
      "execution_count": null,
      "outputs": []
    },
    {
      "cell_type": "markdown",
      "source": [
        "# Feature Engineering"
      ],
      "metadata": {
        "papermill": {
          "duration": 0.007859,
          "end_time": "2023-03-05T03:24:35.226496",
          "exception": false,
          "start_time": "2023-03-05T03:24:35.218637",
          "status": "completed"
        },
        "tags": [],
        "id": "87pQjic4ui9L"
      }
    },
    {
      "cell_type": "code",
      "source": [
        "def build_features(raw, target='microbusiness_density', target_act='active_tmp', lags = 6):\n",
        "    feats = []   \n",
        "    \n",
        "    #Lags, Differences and Percentages of Change\n",
        "    for lag in range(1, lags):\n",
        "        raw[f'mbd_lag_{lag}'] = raw.groupby('cfips')[target].shift(lag)\n",
        "        raw[f'act_lag_{lag}'] = raw.groupby('cfips')[target_act].diff(lag)\n",
        "        raw[f'pct_lag_{lag}'] = raw.groupby('cfips')[target_act].pct_change(lag)\n",
        "        feats.append(f'mbd_lag_{lag}')\n",
        "        feats.append(f'act_lag_{lag}')\n",
        "        feats.append(f'pct_lag_{lag}')\n",
        "        \n",
        "    #Rolling Features\n",
        "    lag = 1\n",
        "    for window in [2, 4, 6, 8, 10]:\n",
        "        raw[f'mbd_rollmea_median{window}_{lag}'] = raw.groupby('cfips')[f'mbd_lag_{lag}'].transform(lambda s: s.rolling(window, min_periods=1).median())\n",
        "        feats.append(f'mbd_rollmea_median{window}_{lag}')\n",
        "\n",
        "    \n",
        "    #Add the Features from the \"Census\" data file\n",
        "    census_columns = list(census.columns)\n",
        "    census_columns.remove(\"cfips\")\n",
        "    \n",
        "    raw = raw.merge(census, on=\"cfips\", how=\"left\")\n",
        "    feats += census_columns\n",
        "    \n",
        "    #Some Additional External Data\n",
        "    co_est = pd.read_csv(\"/kaggle/input/us-indicator/co-est2021-alldata.csv\", encoding='latin-1')\n",
        "    co_est[\"cfips\"] = co_est.STATE*1000 + co_est.COUNTY\n",
        "    co_columns = [\n",
        "        'SUMLEV',\n",
        "        'DIVISION',\n",
        "        'ESTIMATESBASE2020',\n",
        "        'POPESTIMATE2020',\n",
        "        'POPESTIMATE2021',\n",
        "        'NPOPCHG2020',\n",
        "        'NPOPCHG2021',\n",
        "        'BIRTHS2020',\n",
        "        'BIRTHS2021',\n",
        "        'DEATHS2020',\n",
        "        'DEATHS2021',\n",
        "        'NATURALCHG2020',\n",
        "        'NATURALCHG2021',\n",
        "        'INTERNATIONALMIG2020',\n",
        "        'INTERNATIONALMIG2021',\n",
        "        'DOMESTICMIG2020',\n",
        "        'DOMESTICMIG2021',\n",
        "        'NETMIG2020',\n",
        "        'NETMIG2021',\n",
        "        'RESIDUAL2020',\n",
        "        'RESIDUAL2021',\n",
        "        'GQESTIMATESBASE2020',\n",
        "        'GQESTIMATES2020',\n",
        "        'GQESTIMATES2021',\n",
        "        'RBIRTH2021',\n",
        "        'RDEATH2021',\n",
        "        'RNATURALCHG2021',\n",
        "        'RINTERNATIONALMIG2021',\n",
        "        'RDOMESTICMIG2021',\n",
        "        'RNETMIG2021'\n",
        "    ]\n",
        "    raw = raw.merge(co_est, on=\"cfips\", how=\"left\")\n",
        "    feats +=  co_columns\n",
        "    return raw, feats"
      ],
      "metadata": {
        "papermill": {
          "duration": 0.024801,
          "end_time": "2023-03-05T03:24:35.259384",
          "exception": false,
          "start_time": "2023-03-05T03:24:35.234583",
          "status": "completed"
        },
        "tags": [],
        "execution": {
          "iopub.status.busy": "2023-03-14T20:01:30.951558Z",
          "iopub.execute_input": "2023-03-14T20:01:30.952264Z",
          "iopub.status.idle": "2023-03-14T20:01:30.969144Z",
          "shell.execute_reply.started": "2023-03-14T20:01:30.952181Z",
          "shell.execute_reply": "2023-03-14T20:01:30.967875Z"
        },
        "trusted": true,
        "id": "I5earCrIui9M"
      },
      "execution_count": null,
      "outputs": []
    },
    {
      "cell_type": "code",
      "source": [
        "# Build Features based on lag of target\n",
        "raw, feats = build_features(raw, 'target', 'active', lags = 9)\n",
        "features = ['state_i']\n",
        "features += feats\n",
        "features += ['lng','lat','scale']"
      ],
      "metadata": {
        "papermill": {
          "duration": 9.657614,
          "end_time": "2023-03-05T03:24:44.925224",
          "exception": false,
          "start_time": "2023-03-05T03:24:35.26761",
          "status": "completed"
        },
        "scrolled": true,
        "tags": [],
        "execution": {
          "iopub.status.busy": "2023-03-14T20:01:30.970549Z",
          "iopub.execute_input": "2023-03-14T20:01:30.971021Z",
          "iopub.status.idle": "2023-03-14T20:01:40.224437Z",
          "shell.execute_reply.started": "2023-03-14T20:01:30.970921Z",
          "shell.execute_reply": "2023-03-14T20:01:40.222731Z"
        },
        "trusted": true,
        "id": "d9D7CaH-ui9N"
      },
      "execution_count": null,
      "outputs": []
    },
    {
      "cell_type": "markdown",
      "source": [
        "## Latitude and Longitude Feature Engineering"
      ],
      "metadata": {
        "papermill": {
          "duration": 0.00837,
          "end_time": "2023-03-05T03:24:44.943482",
          "exception": false,
          "start_time": "2023-03-05T03:24:44.935112",
          "status": "completed"
        },
        "tags": [],
        "id": "gLVOOb3dui9N"
      }
    },
    {
      "cell_type": "code",
      "source": [
        "#Rotations of the Angle\n",
        "def rot(df):\n",
        "    for angle in [15, 30, 45]:\n",
        "        df[f'rot_{angle}_x'] = (np.cos(np.radians(angle)) * df['lat']) + \\\n",
        "                                (np.sin(np.radians(angle)) * df['lng'])\n",
        "        \n",
        "        df[f'rot_{angle}_y'] = (np.cos(np.radians(angle)) * df['lat']) - \\\n",
        "                                (np.sin(np.radians(angle)) * df['lng'])\n",
        "        \n",
        "    return df\n",
        "\n",
        "raw = rot(raw)"
      ],
      "metadata": {
        "papermill": {
          "duration": 0.043253,
          "end_time": "2023-03-05T03:24:45.223738",
          "exception": false,
          "start_time": "2023-03-05T03:24:45.180485",
          "status": "completed"
        },
        "tags": [],
        "execution": {
          "iopub.status.busy": "2023-03-14T20:01:40.235404Z",
          "iopub.execute_input": "2023-03-14T20:01:40.236087Z",
          "iopub.status.idle": "2023-03-14T20:01:40.283134Z",
          "shell.execute_reply.started": "2023-03-14T20:01:40.236052Z",
          "shell.execute_reply": "2023-03-14T20:01:40.282299Z"
        },
        "trusted": true,
        "id": "Y79cLgJIui9O"
      },
      "execution_count": null,
      "outputs": []
    },
    {
      "cell_type": "code",
      "source": [
        "features += ['rot_15_x', 'rot_15_y', 'rot_30_x', 'rot_30_y', 'rot_45_x', 'rot_45_y']"
      ],
      "metadata": {
        "papermill": {
          "duration": 0.023381,
          "end_time": "2023-03-05T03:24:45.257516",
          "exception": false,
          "start_time": "2023-03-05T03:24:45.234135",
          "status": "completed"
        },
        "tags": [],
        "execution": {
          "iopub.status.busy": "2023-03-14T20:01:40.284826Z",
          "iopub.execute_input": "2023-03-14T20:01:40.285388Z",
          "iopub.status.idle": "2023-03-14T20:01:40.290385Z",
          "shell.execute_reply.started": "2023-03-14T20:01:40.285350Z",
          "shell.execute_reply": "2023-03-14T20:01:40.289735Z"
        },
        "trusted": true,
        "id": "bfVKweLxui9O"
      },
      "execution_count": null,
      "outputs": []
    },
    {
      "cell_type": "markdown",
      "source": [
        "# Modeling"
      ],
      "metadata": {
        "id": "HwKJcO0Tui9P"
      }
    },
    {
      "cell_type": "code",
      "source": [
        "import lightgbm as lgb\n",
        "import xgboost as xgb\n",
        "import catboost as cat  \n",
        "\n",
        "def base_models():\n",
        "    # LGBM model\n",
        "    params = {\n",
        "    'n_iter': 300,\n",
        "    'boosting_type': 'dart',\n",
        "    'verbosity': -1,\n",
        "    'objective': 'l1',\n",
        "    'random_state': 42,\n",
        "    'colsample_bytree': 0.8841279649367693,\n",
        "    'colsample_bynode': 0.10142964450634374,\n",
        "    'max_depth': 8,\n",
        "    'learning_rate': 0.003647749926797374,\n",
        "    'lambda_l2': 0.5,\n",
        "    'num_leaves': 61,\n",
        "    \"seed\": 42,\n",
        "    'min_data_in_leaf': 213}\n",
        "\n",
        "    lgb_model = lgb.LGBMRegressor(**params)\n",
        "    \n",
        "    \n",
        "    # XGB Model\n",
        "    xgb_model = xgb.XGBRegressor(\n",
        "    objective='reg:pseudohubererror',\n",
        "    tree_method=\"hist\",\n",
        "    n_estimators=795,\n",
        "    learning_rate=0.0075,\n",
        "    max_leaves = 17,\n",
        "    subsample=0.50,\n",
        "    colsample_bytree=0.50,\n",
        "    max_bin=4096,\n",
        "    n_jobs=2)\n",
        "\n",
        "    \n",
        "    # Catboost Model\n",
        "    cat_model = cat.CatBoostRegressor(\n",
        "        iterations=2500,\n",
        "        loss_function=\"MAPE\",\n",
        "        verbose=0,\n",
        "        grow_policy='SymmetricTree',\n",
        "        learning_rate=0.035,\n",
        "        colsample_bylevel=0.8,\n",
        "        max_depth=5,\n",
        "        l2_leaf_reg=0.2,\n",
        "        subsample=0.70,\n",
        "        max_bin=4096,\n",
        "    )\n",
        "    \n",
        "    models = {}\n",
        "    models['xgb'] = xgb_model\n",
        "    models['lgbm'] = lgb_model\n",
        "    models['cat'] = cat_model\n",
        "\n",
        "    return models\n",
        "\n",
        "def get_model():\n",
        " \n",
        "    cat_model = cat.CatBoostRegressor(\n",
        "        iterations=2000,\n",
        "        loss_function=\"MAPE\",\n",
        "        verbose=0,\n",
        "        grow_policy='SymmetricTree',\n",
        "        learning_rate=0.035,\n",
        "        colsample_bylevel=0.8,\n",
        "        max_depth=5,\n",
        "        l2_leaf_reg=0.2,\n",
        "        subsample=0.70,\n",
        "        max_bin=4096,\n",
        "    )\n",
        "\n",
        "    return cat_model"
      ],
      "metadata": {
        "papermill": {
          "duration": 0.025151,
          "end_time": "2023-03-05T03:24:45.291181",
          "exception": false,
          "start_time": "2023-03-05T03:24:45.26603",
          "status": "completed"
        },
        "tags": [],
        "execution": {
          "iopub.status.busy": "2023-03-14T20:01:40.291638Z",
          "iopub.execute_input": "2023-03-14T20:01:40.292979Z",
          "iopub.status.idle": "2023-03-14T20:01:40.307181Z",
          "shell.execute_reply.started": "2023-03-14T20:01:40.292917Z",
          "shell.execute_reply": "2023-03-14T20:01:40.305844Z"
        },
        "trusted": true,
        "id": "ifeiczusui9P"
      },
      "execution_count": null,
      "outputs": []
    },
    {
      "cell_type": "code",
      "source": [
        "raw['ypred_last'] = np.nan\n",
        "raw['ypred'] = np.nan\n",
        "raw['k'] = 1.\n",
        "raw['microbusiness_density'].fillna(0, inplace = True)\n",
        "\n",
        "\n",
        "ACT_THR = 150\n",
        "# Validating on the 39th month\n",
        "MONTH_1 = 39 \n",
        "MONTH_last = 40 \n",
        "\n",
        "for TS in range(MONTH_1, MONTH_last): #40):\n",
        "    print(f'TS: {TS}')\n",
        "   \n",
        "    # model = get_model()\n",
        "    models = base_models()\n",
        "    model0 = models['xgb']\n",
        "    model1 = models['lgbm']\n",
        "    model2 = models['cat']\n",
        "            \n",
        "    train_indices = (raw.istest==0) & (raw.dcount  < TS) & (raw.dcount >= 1) & (raw.lastactive>ACT_THR) \n",
        "    valid_indices = (raw.istest==0) & (raw.dcount == TS) \n",
        "    \n",
        "    # Train each of the models on the current TS\n",
        "    model0.fit(\n",
        "        raw.loc[train_indices, features],\n",
        "        raw.loc[train_indices, 'target'].clip(-0.002, 0.006))\n",
        "    \n",
        "    model1.fit(\n",
        "        raw.loc[train_indices, features],\n",
        "        raw.loc[train_indices, 'target'].clip(-0.002, 0.006))\n",
        "    \n",
        "    model2.fit(\n",
        "        raw.loc[train_indices, features],\n",
        "        raw.loc[train_indices, 'target'].clip(-0.002, 0.006))\n",
        "    \n",
        "\n",
        "    tr_pred0 = model0.predict(raw.loc[train_indices, features])\n",
        "    tr_pred1 = model1.predict(raw.loc[train_indices, features])\n",
        "    tr_pred2 = model2.predict(raw.loc[train_indices, features])\n",
        "    train_preds = np.column_stack((tr_pred0, tr_pred1, tr_pred2))\n",
        "    \n",
        "    meta_model = get_model() \n",
        "    meta_model.fit(train_preds, raw.loc[train_indices, 'target'].clip(-0.002, 0.006))\n",
        "    \n",
        "    val_preds0 = model0.predict(raw.loc[valid_indices, features])\n",
        "    val_preds1 = model1.predict(raw.loc[valid_indices, features])\n",
        "    val_preds2 = model2.predict(raw.loc[valid_indices, features])\n",
        "    valid_preds = np.column_stack((val_preds0, val_preds1, val_preds2))\n",
        "    \n",
        "    ypred = meta_model.predict(valid_preds)\n",
        "    raw.loc[valid_indices, 'k'] = ypred + 1\n",
        "    raw.loc[valid_indices,'k'] = raw.loc[valid_indices,'k'] * raw.loc[valid_indices,'microbusiness_density']\n",
        "\n",
        "    # Validate\n",
        "    lastval = raw.loc[raw.dcount==TS, ['cfips', 'microbusiness_density']].set_index('cfips').to_dict()['microbusiness_density']\n",
        "    dt = raw.loc[raw.dcount==TS, ['cfips', 'k']].set_index('cfips').to_dict()['k']\n",
        "    \n",
        "    df = raw.loc[raw.dcount==(TS+1), \n",
        "                 ['cfips', 'microbusiness_density', 'state', 'lastactive', 'mbd_lag_1']].reset_index(drop=True)\n",
        "    df['pred'] = df['cfips'].map(dt)\n",
        "    df['lastval'] = df['cfips'].map(lastval)\n",
        "        \n",
        "    df.loc[df['lastactive']<=ACT_THR, 'pred'] = df.loc[df['lastactive']<=ACT_THR, 'lastval']\n",
        "        \n",
        "    raw.loc[raw.dcount==(TS+1), 'ypred'] = df['pred'].values\n",
        "    raw.loc[raw.dcount==(TS+1), 'ypred_last'] = df['lastval'].values\n",
        "    \n",
        "    print('Last Value SMAPE:', smape(df['microbusiness_density'], df['lastval']) )\n",
        "    print('SMAPE:', smape(df['microbusiness_density'], df['pred']))\n",
        "    print()\n",
        "\n",
        "ind = (raw.dcount > MONTH_1)&(raw.dcount <= MONTH_last)\n",
        "\n",
        "print('SMAPE:', smape( raw.loc[ind, 'microbusiness_density'],  raw.loc[ind, 'ypred']))\n",
        "print('Last Value SMAPE:', smape( raw.loc[ind, 'microbusiness_density'],  raw.loc[ind, 'ypred_last']))"
      ],
      "metadata": {
        "papermill": {
          "duration": 271.35719,
          "end_time": "2023-03-05T03:29:16.869216",
          "exception": false,
          "start_time": "2023-03-05T03:24:45.512026",
          "status": "completed"
        },
        "tags": [],
        "execution": {
          "iopub.status.busy": "2023-03-14T20:01:40.517164Z",
          "iopub.execute_input": "2023-03-14T20:01:40.517714Z",
          "iopub.status.idle": "2023-03-14T20:06:31.096648Z",
          "shell.execute_reply.started": "2023-03-14T20:01:40.517664Z",
          "shell.execute_reply": "2023-03-14T20:06:31.094096Z"
        },
        "trusted": true,
        "id": "184OmBGCui9Q",
        "outputId": "4dc8e950-7d9b-4ff0-be08-d366f07bc4be"
      },
      "execution_count": null,
      "outputs": [
        {
          "name": "stdout",
          "text": "TS: 39\n",
          "output_type": "stream"
        },
        {
          "output_type": "display_data",
          "data": {
            "text/plain": "<IPython.core.display.HTML object>",
            "text/html": "<style type='text/css'>\n.datatable table.frame { margin-bottom: 0; }\n.datatable table.frame thead { border-bottom: none; }\n.datatable table.frame tr.coltypes td {  color: #FFFFFF;  line-height: 6px;  padding: 0 0.5em;}\n.datatable .bool    { background: #DDDD99; }\n.datatable .object  { background: #565656; }\n.datatable .int     { background: #5D9E5D; }\n.datatable .float   { background: #4040CC; }\n.datatable .str     { background: #CC4040; }\n.datatable .time    { background: #40CC40; }\n.datatable .row_index {  background: var(--jp-border-color3);  border-right: 1px solid var(--jp-border-color0);  color: var(--jp-ui-font-color3);  font-size: 9px;}\n.datatable .frame tbody td { text-align: left; }\n.datatable .frame tr.coltypes .row_index {  background: var(--jp-border-color0);}\n.datatable th:nth-child(2) { padding-left: 12px; }\n.datatable .hellipsis {  color: var(--jp-cell-editor-border-color);}\n.datatable .vellipsis {  background: var(--jp-layout-color0);  color: var(--jp-cell-editor-border-color);}\n.datatable .na {  color: var(--jp-cell-editor-border-color);  font-size: 80%;}\n.datatable .sp {  opacity: 0.25;}\n.datatable .footer { font-size: 9px; }\n.datatable .frame_dimensions {  background: var(--jp-border-color3);  border-top: 1px solid var(--jp-border-color0);  color: var(--jp-ui-font-color3);  display: inline-block;  opacity: 0.6;  padding: 1px 10px 1px 5px;}\n</style>\n"
          },
          "metadata": {}
        },
        {
          "name": "stderr",
          "text": "/opt/conda/lib/python3.7/site-packages/lightgbm/engine.py:177: UserWarning: Found `n_iter` in params. Will use it instead of argument\n  _log_warning(f\"Found `{alias}` in params. Will use it instead of argument\")\n",
          "output_type": "stream"
        },
        {
          "name": "stdout",
          "text": "[LightGBM] [Warning] lambda_l2 is set=0.5, reg_lambda=0.0 will be ignored. Current value: lambda_l2=0.5\n[LightGBM] [Warning] min_data_in_leaf is set=213, min_child_samples=20 will be ignored. Current value: min_data_in_leaf=213\n[LightGBM] [Warning] seed is set=42, random_state=42 will be ignored. Current value: seed=42\n[LightGBM] [Warning] num_iterations is set=300, n_iter=300 will be ignored. Current value: num_iterations=300\nLast Value SMAPE: 1.889206717018118\nSMAPE: 1.8610329713853138\n\nSMAPE: 1.8610329713853138\nLast Value SMAPE: 1.889206717018118\n",
          "output_type": "stream"
        }
      ]
    },
    {
      "cell_type": "code",
      "source": [
        "TS = 40\n",
        "print(TS)\n",
        "\n",
        "model0 = get_model()\n",
        "\n",
        "train_indices = (raw.istest==0) & (raw.dcount  < TS) & (raw.dcount >= 1) & (raw.lastactive>ACT_THR) \n",
        "valid_indices = (raw.dcount == TS)\n",
        "\n",
        "model0.fit(\n",
        "        raw.loc[train_indices, features],\n",
        "        raw.loc[train_indices, 'target'].clip(-0.002, 0.006))\n",
        "    \n",
        "model1.fit(\n",
        "    raw.loc[train_indices, features],\n",
        "    raw.loc[train_indices, 'target'].clip(-0.002, 0.006))\n",
        "\n",
        "model2.fit(\n",
        "    raw.loc[train_indices, features],\n",
        "    raw.loc[train_indices, 'target'].clip(-0.002, 0.006))\n",
        "\n",
        "\n",
        "tr_pred0 = model0.predict(raw.loc[train_indices, features])\n",
        "tr_pred1 = model1.predict(raw.loc[train_indices, features])\n",
        "tr_pred2 = model2.predict(raw.loc[train_indices, features])\n",
        "train_preds = np.column_stack((tr_pred0, tr_pred1, tr_pred2))\n",
        "\n",
        "meta_model = get_model() \n",
        "meta_model.fit(train_preds, raw.loc[train_indices, 'target'].clip(-0.002, 0.006))\n",
        "\n",
        "val_preds0 = model0.predict(raw.loc[valid_indices, features])\n",
        "val_preds1 = model1.predict(raw.loc[valid_indices, features])\n",
        "val_preds2 = model2.predict(raw.loc[valid_indices, features])\n",
        "valid_preds = np.column_stack((val_preds0, val_preds1, val_preds2))\n",
        "\n",
        "ypred = meta_model.predict(valid_preds)\n",
        "\n",
        "raw.loc[valid_indices, 'k'] = ypred + 1.\n",
        "raw.loc[valid_indices,'k'] = raw.loc[valid_indices,'k'] * raw.loc[valid_indices,'microbusiness_density']\n",
        "\n",
        "# Validate\n",
        "lastval = raw.loc[raw.dcount==TS, ['cfips', 'microbusiness_density']].set_index('cfips').to_dict()['microbusiness_density']\n",
        "dt = raw.loc[raw.dcount==TS, ['cfips', 'k']].set_index('cfips').to_dict()['k']"
      ],
      "metadata": {
        "papermill": {
          "duration": 400.623352,
          "end_time": "2023-03-05T03:35:57.547869",
          "exception": false,
          "start_time": "2023-03-05T03:29:16.924517",
          "status": "completed"
        },
        "tags": [],
        "execution": {
          "iopub.status.busy": "2023-03-14T20:06:31.126825Z",
          "iopub.execute_input": "2023-03-14T20:06:31.127125Z",
          "iopub.status.idle": "2023-03-14T20:13:12.930346Z",
          "shell.execute_reply.started": "2023-03-14T20:06:31.127099Z",
          "shell.execute_reply": "2023-03-14T20:13:12.928807Z"
        },
        "trusted": true,
        "id": "mr4N5YCaui9R",
        "outputId": "68f434f7-7f62-476a-e2c7-ae253c9e6897"
      },
      "execution_count": null,
      "outputs": [
        {
          "name": "stdout",
          "text": "40\n",
          "output_type": "stream"
        },
        {
          "name": "stderr",
          "text": "/opt/conda/lib/python3.7/site-packages/lightgbm/engine.py:177: UserWarning: Found `n_iter` in params. Will use it instead of argument\n  _log_warning(f\"Found `{alias}` in params. Will use it instead of argument\")\n",
          "output_type": "stream"
        },
        {
          "name": "stdout",
          "text": "[LightGBM] [Warning] lambda_l2 is set=0.5, reg_lambda=0.0 will be ignored. Current value: lambda_l2=0.5\n[LightGBM] [Warning] min_data_in_leaf is set=213, min_child_samples=20 will be ignored. Current value: min_data_in_leaf=213\n[LightGBM] [Warning] seed is set=42, random_state=42 will be ignored. Current value: seed=42\n[LightGBM] [Warning] num_iterations is set=300, n_iter=300 will be ignored. Current value: num_iterations=300\n",
          "output_type": "stream"
        }
      ]
    },
    {
      "cell_type": "code",
      "source": [
        "df = raw.loc[raw.dcount==(TS+1), ['cfips', 'microbusiness_density', 'state', 'lastactive', 'mbd_lag_1']].reset_index(drop=True)"
      ],
      "metadata": {
        "papermill": {
          "duration": 0.027496,
          "end_time": "2023-03-05T03:35:57.584795",
          "exception": false,
          "start_time": "2023-03-05T03:35:57.557299",
          "status": "completed"
        },
        "tags": [],
        "execution": {
          "iopub.status.busy": "2023-03-14T20:13:12.931693Z",
          "iopub.execute_input": "2023-03-14T20:13:12.932026Z",
          "iopub.status.idle": "2023-03-14T20:13:12.947646Z",
          "shell.execute_reply.started": "2023-03-14T20:13:12.931999Z",
          "shell.execute_reply": "2023-03-14T20:13:12.945001Z"
        },
        "trusted": true,
        "id": "3O1g4W98ui9S"
      },
      "execution_count": null,
      "outputs": []
    },
    {
      "cell_type": "code",
      "source": [
        "df['pred'] = df['cfips'].map(dt)\n",
        "df['lastval'] = df['cfips'].map(lastval)\n",
        "\n",
        "df.loc[df['lastactive']<=ACT_THR, 'pred'] = df.loc[df['lastactive']<=ACT_THR, 'lastval']\n",
        "\n",
        "raw.loc[raw.dcount==(TS+1), 'ypred'] = df['pred'].values\n",
        "raw.loc[raw.dcount==(TS+1), 'ypred_last'] = df['lastval'].values"
      ],
      "metadata": {
        "papermill": {
          "duration": 0.031521,
          "end_time": "2023-03-05T03:35:57.625606",
          "exception": false,
          "start_time": "2023-03-05T03:35:57.594085",
          "status": "completed"
        },
        "tags": [],
        "execution": {
          "iopub.status.busy": "2023-03-14T20:13:12.950379Z",
          "iopub.execute_input": "2023-03-14T20:13:12.950797Z",
          "iopub.status.idle": "2023-03-14T20:13:12.967885Z",
          "shell.execute_reply.started": "2023-03-14T20:13:12.950770Z",
          "shell.execute_reply": "2023-03-14T20:13:12.967000Z"
        },
        "trusted": true,
        "id": "y2Ttb0fvui9S"
      },
      "execution_count": null,
      "outputs": []
    },
    {
      "cell_type": "code",
      "source": [
        "mask = (raw.lastactive > 150) & (raw.dcount==(TS+1))\n",
        "k = 0.1\n",
        "raw.loc[mask, 'ypred'] = k * 1.005 * raw.loc[mask, 'ypred_last'] + (1-k) * raw.loc[mask, 'ypred'] "
      ],
      "metadata": {
        "execution": {
          "iopub.status.busy": "2023-03-14T20:13:12.969120Z",
          "iopub.execute_input": "2023-03-14T20:13:12.970970Z",
          "iopub.status.idle": "2023-03-14T20:13:12.981163Z",
          "shell.execute_reply.started": "2023-03-14T20:13:12.970896Z",
          "shell.execute_reply": "2023-03-14T20:13:12.979012Z"
        },
        "trusted": true,
        "id": "uOi6UDTxui9T"
      },
      "execution_count": null,
      "outputs": []
    },
    {
      "cell_type": "code",
      "source": [
        "# Some Edge Cases\n",
        "raw.loc[raw['cfips']==28055, 'microbusiness_density'] = 0\n",
        "raw.loc[raw['cfips']==48269, 'microbusiness_density'] = 1.762115"
      ],
      "metadata": {
        "papermill": {
          "duration": 0.023272,
          "end_time": "2023-03-05T03:35:57.658099",
          "exception": false,
          "start_time": "2023-03-05T03:35:57.634827",
          "status": "completed"
        },
        "scrolled": true,
        "tags": [],
        "execution": {
          "iopub.status.busy": "2023-03-14T20:13:12.984383Z",
          "iopub.execute_input": "2023-03-14T20:13:12.984885Z",
          "iopub.status.idle": "2023-03-14T20:13:12.999957Z",
          "shell.execute_reply.started": "2023-03-14T20:13:12.984854Z",
          "shell.execute_reply": "2023-03-14T20:13:12.998402Z"
        },
        "trusted": true,
        "id": "hIdoxog8ui9T"
      },
      "execution_count": null,
      "outputs": []
    },
    {
      "cell_type": "code",
      "source": [
        "COLS = ['GEO_ID','NAME','S0101_C01_026E']\n",
        "df2020 = pd.read_csv('/kaggle/input/census-data-for-godaddy/ACSST5Y2020.S0101-Data.csv', usecols=COLS, dtype = 'object')\n",
        "df2021 = pd.read_csv('/kaggle/input/census-data-for-godaddy/ACSST5Y2021.S0101-Data.csv',usecols=COLS, dtype = 'object')\n",
        "\n",
        "df2020 = df2020.iloc[1:]\n",
        "df2020 = df2020.astype({'S0101_C01_026E':'int'})\n",
        "\n",
        "df2021 = df2021.iloc[1:]\n",
        "df2021 = df2021.astype({'S0101_C01_026E':'int'})\n",
        "\n",
        "df2020['cfips'] = df2020.GEO_ID.apply(lambda x: int(x.split('US')[-1]))\n",
        "adult2020 = df2020.set_index('cfips').S0101_C01_026E.to_dict()\n",
        "\n",
        "df2021['cfips'] = df2021.GEO_ID.apply(lambda x: int(x.split('US')[-1]))\n",
        "adult2021 = df2021.set_index('cfips').S0101_C01_026E.to_dict()\n",
        "\n",
        "df2020['mnoshitel'] = df2020['S0101_C01_026E'] / df2021['S0101_C01_026E']\n",
        "\n",
        "df2020 = df2020[['cfips','mnoshitel']]\n",
        "df2020.set_index('cfips', inplace=True)"
      ],
      "metadata": {
        "papermill": {
          "duration": 0.710508,
          "end_time": "2023-03-05T03:35:58.377675",
          "exception": false,
          "start_time": "2023-03-05T03:35:57.667167",
          "status": "completed"
        },
        "tags": [],
        "execution": {
          "iopub.status.busy": "2023-03-14T20:13:13.002320Z",
          "iopub.execute_input": "2023-03-14T20:13:13.002690Z",
          "iopub.status.idle": "2023-03-14T20:13:13.767495Z",
          "shell.execute_reply.started": "2023-03-14T20:13:13.002661Z",
          "shell.execute_reply": "2023-03-14T20:13:13.765173Z"
        },
        "trusted": true,
        "id": "jbNJn4YTui9U"
      },
      "execution_count": null,
      "outputs": []
    },
    {
      "cell_type": "code",
      "source": [
        "raw = raw.join(df2020, on='cfips')\n",
        "maska = (raw[\"first_day_of_month\"]=='2023-01-01')\n",
        "raw.loc[maska, 'microbusiness_density'] = raw.loc[maska, 'ypred'] * raw.loc[maska, 'mnoshitel']\n",
        "raw.drop(columns = 'mnoshitel' , inplace = True)"
      ],
      "metadata": {
        "papermill": {
          "duration": 0.233497,
          "end_time": "2023-03-05T03:35:58.620267",
          "exception": false,
          "start_time": "2023-03-05T03:35:58.38677",
          "status": "completed"
        },
        "tags": [],
        "execution": {
          "iopub.status.busy": "2023-03-14T20:13:13.769734Z",
          "iopub.execute_input": "2023-03-14T20:13:13.771555Z",
          "iopub.status.idle": "2023-03-14T20:13:13.956780Z",
          "shell.execute_reply.started": "2023-03-14T20:13:13.771511Z",
          "shell.execute_reply": "2023-03-14T20:13:13.955985Z"
        },
        "trusted": true,
        "id": "55JWfxT-ui9U"
      },
      "execution_count": null,
      "outputs": []
    },
    {
      "cell_type": "code",
      "source": [
        "test = raw[raw.first_day_of_month >= '2022-11-01'].copy()\n",
        "test = test[['row_id', 'cfips', 'microbusiness_density']]\n",
        "test = test[['row_id', 'microbusiness_density']]\n",
        "test.to_csv('submission.csv', index=False)"
      ],
      "metadata": {
        "papermill": {
          "duration": 0.093186,
          "end_time": "2023-03-05T03:35:58.722963",
          "exception": false,
          "start_time": "2023-03-05T03:35:58.629777",
          "status": "completed"
        },
        "tags": [],
        "execution": {
          "iopub.status.busy": "2023-03-14T20:13:13.957891Z",
          "iopub.execute_input": "2023-03-14T20:13:13.958396Z",
          "iopub.status.idle": "2023-03-14T20:13:14.054140Z",
          "shell.execute_reply.started": "2023-03-14T20:13:13.958367Z",
          "shell.execute_reply": "2023-03-14T20:13:14.052290Z"
        },
        "trusted": true,
        "id": "7f9sw8VZui9V"
      },
      "execution_count": null,
      "outputs": []
    },
    {
      "cell_type": "code",
      "source": [
        "sub = pd.read_csv(\"/kaggle/input/godaddy-lb-13803/submission.csv\")\n",
        "for i, row in sub.iterrows():\n",
        "    test.iat[i,1] = (\n",
        "        0.65*test.iat[i,1] +\n",
        "        0.35*row[\"microbusiness_density\"]\n",
        "    )\n",
        "test.to_csv('submission.csv', index=False)\n",
        "test.head(40)"
      ],
      "metadata": {
        "papermill": {
          "duration": 5.506782,
          "end_time": "2023-03-05T03:36:04.238886",
          "exception": false,
          "start_time": "2023-03-05T03:35:58.732104",
          "status": "completed"
        },
        "tags": [],
        "execution": {
          "iopub.status.busy": "2023-03-14T20:13:14.055675Z",
          "iopub.execute_input": "2023-03-14T20:13:14.056029Z",
          "iopub.status.idle": "2023-03-14T20:13:18.862532Z",
          "shell.execute_reply.started": "2023-03-14T20:13:14.056002Z",
          "shell.execute_reply": "2023-03-14T20:13:18.861545Z"
        },
        "trusted": true,
        "id": "odQw5UT8ui9V",
        "outputId": "59a3fc85-b66b-4a91-954f-37320394adb3"
      },
      "execution_count": null,
      "outputs": [
        {
          "execution_count": 35,
          "output_type": "execute_result",
          "data": {
            "text/plain": "              row_id  microbusiness_density\n39   1001_2022-11-01               3.405280\n40   1001_2022-12-01               3.423634\n41   1001_2023-01-01               3.336234\n42   1001_2023-02-01               1.167540\n43   1001_2023-03-01               1.167540\n44   1001_2023-04-01               1.167540\n45   1001_2023-05-01               1.167540\n46   1001_2023-06-01               1.167540\n86   1003_2022-11-01               8.158672\n87   1003_2022-12-01               8.154119\n88   1003_2023-01-01               7.959661\n89   1003_2023-02-01               2.791209\n90   1003_2023-03-01               2.791209\n91   1003_2023-04-01               2.791209\n92   1003_2023-05-01               2.791209\n93   1003_2023-06-01               2.791209\n133  1005_2022-11-01               1.246974\n134  1005_2022-12-01               1.250256\n135  1005_2023-01-01               1.246826\n136  1005_2023-02-01               0.436279\n137  1005_2023-03-01               0.436279\n138  1005_2023-04-01               0.436279\n139  1005_2023-05-01               0.436279\n140  1005_2023-06-01               0.436279\n180  1007_2022-11-01               1.281931\n181  1007_2022-12-01               1.289238\n182  1007_2023-01-01               1.292069\n183  1007_2023-02-01               0.452532\n184  1007_2023-03-01               0.452532\n185  1007_2023-04-01               0.452532\n186  1007_2023-05-01               0.452532\n187  1007_2023-06-01               0.452532\n227  1009_2022-11-01               1.833260\n228  1009_2022-12-01               1.843512\n229  1009_2023-01-01               1.826596\n230  1009_2023-02-01               0.639673\n231  1009_2023-03-01               0.639673\n232  1009_2023-04-01               0.639673\n233  1009_2023-05-01               0.639673\n234  1009_2023-06-01               0.639673",
            "text/html": "<div>\n<style scoped>\n    .dataframe tbody tr th:only-of-type {\n        vertical-align: middle;\n    }\n\n    .dataframe tbody tr th {\n        vertical-align: top;\n    }\n\n    .dataframe thead th {\n        text-align: right;\n    }\n</style>\n<table border=\"1\" class=\"dataframe\">\n  <thead>\n    <tr style=\"text-align: right;\">\n      <th></th>\n      <th>row_id</th>\n      <th>microbusiness_density</th>\n    </tr>\n  </thead>\n  <tbody>\n    <tr>\n      <th>39</th>\n      <td>1001_2022-11-01</td>\n      <td>3.405280</td>\n    </tr>\n    <tr>\n      <th>40</th>\n      <td>1001_2022-12-01</td>\n      <td>3.423634</td>\n    </tr>\n    <tr>\n      <th>41</th>\n      <td>1001_2023-01-01</td>\n      <td>3.336234</td>\n    </tr>\n    <tr>\n      <th>42</th>\n      <td>1001_2023-02-01</td>\n      <td>1.167540</td>\n    </tr>\n    <tr>\n      <th>43</th>\n      <td>1001_2023-03-01</td>\n      <td>1.167540</td>\n    </tr>\n    <tr>\n      <th>44</th>\n      <td>1001_2023-04-01</td>\n      <td>1.167540</td>\n    </tr>\n    <tr>\n      <th>45</th>\n      <td>1001_2023-05-01</td>\n      <td>1.167540</td>\n    </tr>\n    <tr>\n      <th>46</th>\n      <td>1001_2023-06-01</td>\n      <td>1.167540</td>\n    </tr>\n    <tr>\n      <th>86</th>\n      <td>1003_2022-11-01</td>\n      <td>8.158672</td>\n    </tr>\n    <tr>\n      <th>87</th>\n      <td>1003_2022-12-01</td>\n      <td>8.154119</td>\n    </tr>\n    <tr>\n      <th>88</th>\n      <td>1003_2023-01-01</td>\n      <td>7.959661</td>\n    </tr>\n    <tr>\n      <th>89</th>\n      <td>1003_2023-02-01</td>\n      <td>2.791209</td>\n    </tr>\n    <tr>\n      <th>90</th>\n      <td>1003_2023-03-01</td>\n      <td>2.791209</td>\n    </tr>\n    <tr>\n      <th>91</th>\n      <td>1003_2023-04-01</td>\n      <td>2.791209</td>\n    </tr>\n    <tr>\n      <th>92</th>\n      <td>1003_2023-05-01</td>\n      <td>2.791209</td>\n    </tr>\n    <tr>\n      <th>93</th>\n      <td>1003_2023-06-01</td>\n      <td>2.791209</td>\n    </tr>\n    <tr>\n      <th>133</th>\n      <td>1005_2022-11-01</td>\n      <td>1.246974</td>\n    </tr>\n    <tr>\n      <th>134</th>\n      <td>1005_2022-12-01</td>\n      <td>1.250256</td>\n    </tr>\n    <tr>\n      <th>135</th>\n      <td>1005_2023-01-01</td>\n      <td>1.246826</td>\n    </tr>\n    <tr>\n      <th>136</th>\n      <td>1005_2023-02-01</td>\n      <td>0.436279</td>\n    </tr>\n    <tr>\n      <th>137</th>\n      <td>1005_2023-03-01</td>\n      <td>0.436279</td>\n    </tr>\n    <tr>\n      <th>138</th>\n      <td>1005_2023-04-01</td>\n      <td>0.436279</td>\n    </tr>\n    <tr>\n      <th>139</th>\n      <td>1005_2023-05-01</td>\n      <td>0.436279</td>\n    </tr>\n    <tr>\n      <th>140</th>\n      <td>1005_2023-06-01</td>\n      <td>0.436279</td>\n    </tr>\n    <tr>\n      <th>180</th>\n      <td>1007_2022-11-01</td>\n      <td>1.281931</td>\n    </tr>\n    <tr>\n      <th>181</th>\n      <td>1007_2022-12-01</td>\n      <td>1.289238</td>\n    </tr>\n    <tr>\n      <th>182</th>\n      <td>1007_2023-01-01</td>\n      <td>1.292069</td>\n    </tr>\n    <tr>\n      <th>183</th>\n      <td>1007_2023-02-01</td>\n      <td>0.452532</td>\n    </tr>\n    <tr>\n      <th>184</th>\n      <td>1007_2023-03-01</td>\n      <td>0.452532</td>\n    </tr>\n    <tr>\n      <th>185</th>\n      <td>1007_2023-04-01</td>\n      <td>0.452532</td>\n    </tr>\n    <tr>\n      <th>186</th>\n      <td>1007_2023-05-01</td>\n      <td>0.452532</td>\n    </tr>\n    <tr>\n      <th>187</th>\n      <td>1007_2023-06-01</td>\n      <td>0.452532</td>\n    </tr>\n    <tr>\n      <th>227</th>\n      <td>1009_2022-11-01</td>\n      <td>1.833260</td>\n    </tr>\n    <tr>\n      <th>228</th>\n      <td>1009_2022-12-01</td>\n      <td>1.843512</td>\n    </tr>\n    <tr>\n      <th>229</th>\n      <td>1009_2023-01-01</td>\n      <td>1.826596</td>\n    </tr>\n    <tr>\n      <th>230</th>\n      <td>1009_2023-02-01</td>\n      <td>0.639673</td>\n    </tr>\n    <tr>\n      <th>231</th>\n      <td>1009_2023-03-01</td>\n      <td>0.639673</td>\n    </tr>\n    <tr>\n      <th>232</th>\n      <td>1009_2023-04-01</td>\n      <td>0.639673</td>\n    </tr>\n    <tr>\n      <th>233</th>\n      <td>1009_2023-05-01</td>\n      <td>0.639673</td>\n    </tr>\n    <tr>\n      <th>234</th>\n      <td>1009_2023-06-01</td>\n      <td>0.639673</td>\n    </tr>\n  </tbody>\n</table>\n</div>"
          },
          "metadata": {}
        }
      ]
    }
  ]
}