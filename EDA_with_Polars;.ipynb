{
  "nbformat": 4,
  "nbformat_minor": 0,
  "metadata": {
    "colab": {
      "provenance": [],
      "authorship_tag": "ABX9TyOh89cNQT42HniPT9FwL1Lz",
      "include_colab_link": true
    },
    "kernelspec": {
      "name": "python3",
      "display_name": "Python 3"
    },
    "language_info": {
      "name": "python"
    }
  },
  "cells": [
    {
      "cell_type": "markdown",
      "metadata": {
        "id": "view-in-github",
        "colab_type": "text"
      },
      "source": [
        "<a href=\"https://colab.research.google.com/github/mohmaed7777/GoDaddy---Microbusiness-Density-Forecasting/blob/main/EDA_with_Polars%3B.ipynb\" target=\"_parent\"><img src=\"https://colab.research.google.com/assets/colab-badge.svg\" alt=\"Open In Colab\"/></a>"
      ]
    },
    {
      "cell_type": "code",
      "execution_count": 1,
      "metadata": {
        "colab": {
          "base_uri": "https://localhost:8080/"
        },
        "id": "KYaeVHucX-PK",
        "outputId": "0dacb823-c8d4-4774-b097-5d5baf87731c"
      },
      "outputs": [
        {
          "output_type": "stream",
          "name": "stdout",
          "text": [
            "Looking in indexes: https://pypi.org/simple, https://us-python.pkg.dev/colab-wheels/public/simple/\n",
            "Requirement already satisfied: kaggle in /usr/local/lib/python3.8/dist-packages (1.5.12)\n",
            "Requirement already satisfied: requests in /usr/local/lib/python3.8/dist-packages (from kaggle) (2.25.1)\n",
            "Requirement already satisfied: python-dateutil in /usr/local/lib/python3.8/dist-packages (from kaggle) (2.8.2)\n",
            "Requirement already satisfied: tqdm in /usr/local/lib/python3.8/dist-packages (from kaggle) (4.64.1)\n",
            "Requirement already satisfied: certifi in /usr/local/lib/python3.8/dist-packages (from kaggle) (2022.12.7)\n",
            "Requirement already satisfied: six>=1.10 in /usr/local/lib/python3.8/dist-packages (from kaggle) (1.15.0)\n",
            "Requirement already satisfied: urllib3 in /usr/local/lib/python3.8/dist-packages (from kaggle) (1.24.3)\n",
            "Requirement already satisfied: python-slugify in /usr/local/lib/python3.8/dist-packages (from kaggle) (8.0.0)\n",
            "Requirement already satisfied: text-unidecode>=1.3 in /usr/local/lib/python3.8/dist-packages (from python-slugify->kaggle) (1.3)\n",
            "Requirement already satisfied: idna<3,>=2.5 in /usr/local/lib/python3.8/dist-packages (from requests->kaggle) (2.10)\n",
            "Requirement already satisfied: chardet<5,>=3.0.2 in /usr/local/lib/python3.8/dist-packages (from requests->kaggle) (4.0.0)\n"
          ]
        }
      ],
      "source": [
        "!pip install kaggle"
      ]
    },
    {
      "cell_type": "code",
      "source": [
        "!mkdir ~/.kaggle"
      ],
      "metadata": {
        "id": "ASEgKVXLYRsF"
      },
      "execution_count": 2,
      "outputs": []
    },
    {
      "cell_type": "code",
      "source": [
        "! cp kaggle.json ~/.kaggle/"
      ],
      "metadata": {
        "id": "mHWlBFDYYU3h"
      },
      "execution_count": 3,
      "outputs": []
    },
    {
      "cell_type": "code",
      "source": [
        "! chmod 600 ~/.kaggle/kaggle.json"
      ],
      "metadata": {
        "id": "evXmbc7oYU05"
      },
      "execution_count": 4,
      "outputs": []
    },
    {
      "cell_type": "code",
      "source": [
        "! kaggle competitions download -c godaddy-microbusiness-density-forecasting"
      ],
      "metadata": {
        "colab": {
          "base_uri": "https://localhost:8080/"
        },
        "id": "bQ4_jentYUyU",
        "outputId": "451168c0-7a3d-4a2d-ad14-479746b6232d"
      },
      "execution_count": 5,
      "outputs": [
        {
          "output_type": "stream",
          "name": "stdout",
          "text": [
            "Downloading godaddy-microbusiness-density-forecasting.zip to /content\n",
            "\r  0% 0.00/1.74M [00:00<?, ?B/s]\n",
            "\r100% 1.74M/1.74M [00:00<00:00, 126MB/s]\n"
          ]
        }
      ]
    },
    {
      "cell_type": "code",
      "source": [
        "! unzip godaddy-microbusiness-density-forecasting.zip"
      ],
      "metadata": {
        "colab": {
          "base_uri": "https://localhost:8080/"
        },
        "id": "95OmbAdFYUv6",
        "outputId": "0de7f9ad-457a-44d7-dd71-1a25ce11ed62"
      },
      "execution_count": 6,
      "outputs": [
        {
          "output_type": "stream",
          "name": "stdout",
          "text": [
            "Archive:  godaddy-microbusiness-density-forecasting.zip\n",
            "  inflating: census_starter.csv      \n",
            "  inflating: sample_submission.csv   \n",
            "  inflating: test.csv                \n",
            "  inflating: train.csv               \n"
          ]
        }
      ]
    },
    {
      "cell_type": "code",
      "source": [
        "!pip install polars"
      ],
      "metadata": {
        "colab": {
          "base_uri": "https://localhost:8080/"
        },
        "id": "hszZ4kImY0f8",
        "outputId": "547d91c7-325a-42d9-99be-09c8eab9d254"
      },
      "execution_count": 7,
      "outputs": [
        {
          "output_type": "stream",
          "name": "stdout",
          "text": [
            "Looking in indexes: https://pypi.org/simple, https://us-python.pkg.dev/colab-wheels/public/simple/\n",
            "Collecting polars\n",
            "  Downloading polars-0.16.6-cp37-abi3-manylinux_2_17_x86_64.manylinux2014_x86_64.whl (15.2 MB)\n",
            "\u001b[2K     \u001b[90m━━━━━━━━━━━━━━━━━━━━━━━━━━━━━━━━━━━━━━━━\u001b[0m \u001b[32m15.2/15.2 MB\u001b[0m \u001b[31m66.5 MB/s\u001b[0m eta \u001b[36m0:00:00\u001b[0m\n",
            "\u001b[?25hRequirement already satisfied: typing_extensions>=4.0.1 in /usr/local/lib/python3.8/dist-packages (from polars) (4.4.0)\n",
            "Installing collected packages: polars\n",
            "Successfully installed polars-0.16.6\n"
          ]
        }
      ]
    },
    {
      "cell_type": "code",
      "source": [
        "import polars as pl \n",
        "import numpy as np\n",
        "import matplotlib.pyplot as plt "
      ],
      "metadata": {
        "id": "QkhURMEVY5Qe"
      },
      "execution_count": 8,
      "outputs": []
    },
    {
      "cell_type": "code",
      "source": [
        "TRAIN_CSV_PATH = '/content/train.csv'"
      ],
      "metadata": {
        "id": "7asyiq0sZMCE"
      },
      "execution_count": 9,
      "outputs": []
    },
    {
      "cell_type": "code",
      "source": [
        "# Read the DataFrame : \n",
        "df = pl.read_csv(TRAIN_CSV_PATH)\n",
        "df.head()"
      ],
      "metadata": {
        "colab": {
          "base_uri": "https://localhost:8080/",
          "height": 255
        },
        "id": "BwzvK5AiZGxH",
        "outputId": "d4db1314-1b9f-4320-f7c6-bb4d8870210f"
      },
      "execution_count": 10,
      "outputs": [
        {
          "output_type": "execute_result",
          "data": {
            "text/plain": [
              "shape: (5, 7)\n",
              "┌─────────────────┬───────┬────────────────┬─────────┬──────────────────┬─────────────────┬────────┐\n",
              "│ row_id          ┆ cfips ┆ county         ┆ state   ┆ first_day_of_mon ┆ microbusiness_d ┆ active │\n",
              "│ ---             ┆ ---   ┆ ---            ┆ ---     ┆ th               ┆ ensity          ┆ ---    │\n",
              "│ str             ┆ i64   ┆ str            ┆ str     ┆ ---              ┆ ---             ┆ i64    │\n",
              "│                 ┆       ┆                ┆         ┆ str              ┆ f64             ┆        │\n",
              "╞═════════════════╪═══════╪════════════════╪═════════╪══════════════════╪═════════════════╪════════╡\n",
              "│ 1001_2019-08-01 ┆ 1001  ┆ Autauga County ┆ Alabama ┆ 2019-08-01       ┆ 3.0076818       ┆ 1249   │\n",
              "│ 1001_2019-09-01 ┆ 1001  ┆ Autauga County ┆ Alabama ┆ 2019-09-01       ┆ 2.8848701       ┆ 1198   │\n",
              "│ 1001_2019-10-01 ┆ 1001  ┆ Autauga County ┆ Alabama ┆ 2019-10-01       ┆ 3.0558431       ┆ 1269   │\n",
              "│ 1001_2019-11-01 ┆ 1001  ┆ Autauga County ┆ Alabama ┆ 2019-11-01       ┆ 2.9932332       ┆ 1243   │\n",
              "│ 1001_2019-12-01 ┆ 1001  ┆ Autauga County ┆ Alabama ┆ 2019-12-01       ┆ 2.9932332       ┆ 1243   │\n",
              "└─────────────────┴───────┴────────────────┴─────────┴──────────────────┴─────────────────┴────────┘"
            ],
            "text/html": [
              "<div>\n",
              "<style>\n",
              ".pl-dataframe > thead > tr > th {\n",
              "  text-align: right;\n",
              "}\n",
              "</style>\n",
              "\n",
              "<table border=\"1\" class=\"dataframe pl-dataframe\">\n",
              "<small>shape: (5, 7)</small>\n",
              "<thead>\n",
              "<tr>\n",
              "<th>\n",
              "row_id\n",
              "</th>\n",
              "<th>\n",
              "cfips\n",
              "</th>\n",
              "<th>\n",
              "county\n",
              "</th>\n",
              "<th>\n",
              "state\n",
              "</th>\n",
              "<th>\n",
              "first_day_of_month\n",
              "</th>\n",
              "<th>\n",
              "microbusiness_density\n",
              "</th>\n",
              "<th>\n",
              "active\n",
              "</th>\n",
              "</tr>\n",
              "<tr>\n",
              "<td>\n",
              "str\n",
              "</td>\n",
              "<td>\n",
              "i64\n",
              "</td>\n",
              "<td>\n",
              "str\n",
              "</td>\n",
              "<td>\n",
              "str\n",
              "</td>\n",
              "<td>\n",
              "str\n",
              "</td>\n",
              "<td>\n",
              "f64\n",
              "</td>\n",
              "<td>\n",
              "i64\n",
              "</td>\n",
              "</tr>\n",
              "</thead>\n",
              "<tbody>\n",
              "<tr>\n",
              "<td>\n",
              "&quot;1001_2019-08-0...\n",
              "</td>\n",
              "<td>\n",
              "1001\n",
              "</td>\n",
              "<td>\n",
              "&quot;Autauga County...\n",
              "</td>\n",
              "<td>\n",
              "&quot;Alabama&quot;\n",
              "</td>\n",
              "<td>\n",
              "&quot;2019-08-01&quot;\n",
              "</td>\n",
              "<td>\n",
              "3.0076818\n",
              "</td>\n",
              "<td>\n",
              "1249\n",
              "</td>\n",
              "</tr>\n",
              "<tr>\n",
              "<td>\n",
              "&quot;1001_2019-09-0...\n",
              "</td>\n",
              "<td>\n",
              "1001\n",
              "</td>\n",
              "<td>\n",
              "&quot;Autauga County...\n",
              "</td>\n",
              "<td>\n",
              "&quot;Alabama&quot;\n",
              "</td>\n",
              "<td>\n",
              "&quot;2019-09-01&quot;\n",
              "</td>\n",
              "<td>\n",
              "2.8848701\n",
              "</td>\n",
              "<td>\n",
              "1198\n",
              "</td>\n",
              "</tr>\n",
              "<tr>\n",
              "<td>\n",
              "&quot;1001_2019-10-0...\n",
              "</td>\n",
              "<td>\n",
              "1001\n",
              "</td>\n",
              "<td>\n",
              "&quot;Autauga County...\n",
              "</td>\n",
              "<td>\n",
              "&quot;Alabama&quot;\n",
              "</td>\n",
              "<td>\n",
              "&quot;2019-10-01&quot;\n",
              "</td>\n",
              "<td>\n",
              "3.0558431\n",
              "</td>\n",
              "<td>\n",
              "1269\n",
              "</td>\n",
              "</tr>\n",
              "<tr>\n",
              "<td>\n",
              "&quot;1001_2019-11-0...\n",
              "</td>\n",
              "<td>\n",
              "1001\n",
              "</td>\n",
              "<td>\n",
              "&quot;Autauga County...\n",
              "</td>\n",
              "<td>\n",
              "&quot;Alabama&quot;\n",
              "</td>\n",
              "<td>\n",
              "&quot;2019-11-01&quot;\n",
              "</td>\n",
              "<td>\n",
              "2.9932332\n",
              "</td>\n",
              "<td>\n",
              "1243\n",
              "</td>\n",
              "</tr>\n",
              "<tr>\n",
              "<td>\n",
              "&quot;1001_2019-12-0...\n",
              "</td>\n",
              "<td>\n",
              "1001\n",
              "</td>\n",
              "<td>\n",
              "&quot;Autauga County...\n",
              "</td>\n",
              "<td>\n",
              "&quot;Alabama&quot;\n",
              "</td>\n",
              "<td>\n",
              "&quot;2019-12-01&quot;\n",
              "</td>\n",
              "<td>\n",
              "2.9932332\n",
              "</td>\n",
              "<td>\n",
              "1243\n",
              "</td>\n",
              "</tr>\n",
              "</tbody>\n",
              "</table>\n",
              "</div>"
            ]
          },
          "metadata": {},
          "execution_count": 10
        }
      ]
    },
    {
      "cell_type": "code",
      "source": [
        "print('cfips', df['cfips'].n_unique())\n",
        "print('county', df['county'].n_unique())\n",
        "print('state', df['state'].n_unique())"
      ],
      "metadata": {
        "colab": {
          "base_uri": "https://localhost:8080/"
        },
        "id": "3R-bknZueWG0",
        "outputId": "ae7fb796-30a9-470e-e732-94a8bf05c2a8"
      },
      "execution_count": 11,
      "outputs": [
        {
          "output_type": "stream",
          "name": "stdout",
          "text": [
            "cfips 3135\n",
            "county 1871\n",
            "state 51\n"
          ]
        }
      ]
    },
    {
      "cell_type": "markdown",
      "source": [
        "# **Number of counties per state:=**"
      ],
      "metadata": {
        "id": "WSkRGarTf4rS"
      }
    },
    {
      "cell_type": "code",
      "source": [
        "pl_result = df[['state', 'cfips']]\\\n",
        ".unique(subset=['cfips'])\\\n",
        ".groupby(['state'])\\\n",
        ".count()\\\n",
        ".sort(by='count', reverse=False)\n",
        "\n",
        "print('columns:', pl_result.columns)"
      ],
      "metadata": {
        "colab": {
          "base_uri": "https://localhost:8080/"
        },
        "id": "ju0eN4VheWEf",
        "outputId": "c2420659-61f2-4dd0-9c27-a3fcd87e0377"
      },
      "execution_count": 12,
      "outputs": [
        {
          "output_type": "stream",
          "name": "stdout",
          "text": [
            "columns: ['state', 'count']\n"
          ]
        }
      ]
    },
    {
      "cell_type": "code",
      "source": [
        "fig, ax = plt.subplots(figsize=(10,14))\n",
        "bars = ax.barh(pl_result['state'].to_numpy(), pl_result['count'].to_numpy())\n",
        "ax.bar_label(bars)\n",
        "ax.set_title('Number of counties per state')\n",
        "plt.show()"
      ],
      "metadata": {
        "colab": {
          "base_uri": "https://localhost:8080/",
          "height": 1000
        },
        "id": "BK92fzL6eWCL",
        "outputId": "23304a49-bc56-46da-debc-2745b86fa95f"
      },
      "execution_count": 13,
      "outputs": [
        {
          "output_type": "error",
          "ename": "AttributeError",
          "evalue": "ignored",
          "traceback": [
            "\u001b[0;31m---------------------------------------------------------------------------\u001b[0m",
            "\u001b[0;31mAttributeError\u001b[0m                            Traceback (most recent call last)",
            "\u001b[0;32m<ipython-input-13-a2cb9f56ac29>\u001b[0m in \u001b[0;36m<module>\u001b[0;34m\u001b[0m\n\u001b[1;32m      1\u001b[0m \u001b[0mfig\u001b[0m\u001b[0;34m,\u001b[0m \u001b[0max\u001b[0m \u001b[0;34m=\u001b[0m \u001b[0mplt\u001b[0m\u001b[0;34m.\u001b[0m\u001b[0msubplots\u001b[0m\u001b[0;34m(\u001b[0m\u001b[0mfigsize\u001b[0m\u001b[0;34m=\u001b[0m\u001b[0;34m(\u001b[0m\u001b[0;36m10\u001b[0m\u001b[0;34m,\u001b[0m\u001b[0;36m14\u001b[0m\u001b[0;34m)\u001b[0m\u001b[0;34m)\u001b[0m\u001b[0;34m\u001b[0m\u001b[0;34m\u001b[0m\u001b[0m\n\u001b[1;32m      2\u001b[0m \u001b[0mbars\u001b[0m \u001b[0;34m=\u001b[0m \u001b[0max\u001b[0m\u001b[0;34m.\u001b[0m\u001b[0mbarh\u001b[0m\u001b[0;34m(\u001b[0m\u001b[0mpl_result\u001b[0m\u001b[0;34m[\u001b[0m\u001b[0;34m'state'\u001b[0m\u001b[0;34m]\u001b[0m\u001b[0;34m.\u001b[0m\u001b[0mto_numpy\u001b[0m\u001b[0;34m(\u001b[0m\u001b[0;34m)\u001b[0m\u001b[0;34m,\u001b[0m \u001b[0mpl_result\u001b[0m\u001b[0;34m[\u001b[0m\u001b[0;34m'count'\u001b[0m\u001b[0;34m]\u001b[0m\u001b[0;34m.\u001b[0m\u001b[0mto_numpy\u001b[0m\u001b[0;34m(\u001b[0m\u001b[0;34m)\u001b[0m\u001b[0;34m)\u001b[0m\u001b[0;34m\u001b[0m\u001b[0;34m\u001b[0m\u001b[0m\n\u001b[0;32m----> 3\u001b[0;31m \u001b[0max\u001b[0m\u001b[0;34m.\u001b[0m\u001b[0mbar_label\u001b[0m\u001b[0;34m(\u001b[0m\u001b[0mbars\u001b[0m\u001b[0;34m)\u001b[0m\u001b[0;34m\u001b[0m\u001b[0;34m\u001b[0m\u001b[0m\n\u001b[0m\u001b[1;32m      4\u001b[0m \u001b[0max\u001b[0m\u001b[0;34m.\u001b[0m\u001b[0mset_title\u001b[0m\u001b[0;34m(\u001b[0m\u001b[0;34m'Number of counties per state'\u001b[0m\u001b[0;34m)\u001b[0m\u001b[0;34m\u001b[0m\u001b[0;34m\u001b[0m\u001b[0m\n\u001b[1;32m      5\u001b[0m \u001b[0mplt\u001b[0m\u001b[0;34m.\u001b[0m\u001b[0mshow\u001b[0m\u001b[0;34m(\u001b[0m\u001b[0;34m)\u001b[0m\u001b[0;34m\u001b[0m\u001b[0;34m\u001b[0m\u001b[0m\n",
            "\u001b[0;31mAttributeError\u001b[0m: 'AxesSubplot' object has no attribute 'bar_label'"
          ]
        },
        {
          "output_type": "display_data",
          "data": {
            "text/plain": [
              "<Figure size 720x1008 with 1 Axes>"
            ],
            "image/png": "[encoded data removed]"
          },
          "metadata": {
            "needs_background": "light"
          }
        }
      ]
    },
    {
      "cell_type": "code",
      "source": [],
      "metadata": {
        "id": "x6n9jSnceV-6"
      },
      "execution_count": null,
      "outputs": []
    },
    {
      "cell_type": "code",
      "source": [],
      "metadata": {
        "id": "iNACR8YEeV7n"
      },
      "execution_count": null,
      "outputs": []
    },
    {
      "cell_type": "code",
      "source": [],
      "metadata": {
        "id": "OSKU9ezjeV5c"
      },
      "execution_count": null,
      "outputs": []
    }
  ]
}