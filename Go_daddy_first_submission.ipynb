{
  "nbformat": 4,
  "nbformat_minor": 0,
  "metadata": {
    "colab": {
      "provenance": [],
      "authorship_tag": "ABX9TyN5RCkr+To8Fniv58G6mbY+",
      "include_colab_link": true
    },
    "kernelspec": {
      "name": "python3",
      "display_name": "Python 3"
    },
    "language_info": {
      "name": "python"
    }
  },
  "cells": [
    {
      "cell_type": "markdown",
      "metadata": {
        "id": "view-in-github",
        "colab_type": "text"
      },
      "source": [
        "<a href=\"https://colab.research.google.com/github/mohmaed7777/GoDaddy---Microbusiness-Density-Forecasting/blob/main/Go_daddy_first_submission.ipynb\" target=\"_parent\"><img src=\"https://colab.research.google.com/assets/colab-badge.svg\" alt=\"Open In Colab\"/></a>"
      ]
    },
    {
      "cell_type": "code",
      "execution_count": 1,
      "metadata": {
        "colab": {
          "base_uri": "https://localhost:8080/"
        },
        "id": "pd9IDb8hatpo",
        "outputId": "b87c1ac4-adbe-4a7f-ea18-d536bcbf1033"
      },
      "outputs": [
        {
          "output_type": "stream",
          "name": "stdout",
          "text": [
            "Looking in indexes: https://pypi.org/simple, https://us-python.pkg.dev/colab-wheels/public/simple/\n",
            "Requirement already satisfied: kaggle in /usr/local/lib/python3.8/dist-packages (1.5.12)\n",
            "Requirement already satisfied: python-dateutil in /usr/local/lib/python3.8/dist-packages (from kaggle) (2.8.2)\n",
            "Requirement already satisfied: python-slugify in /usr/local/lib/python3.8/dist-packages (from kaggle) (8.0.0)\n",
            "Requirement already satisfied: six>=1.10 in /usr/local/lib/python3.8/dist-packages (from kaggle) (1.15.0)\n",
            "Requirement already satisfied: urllib3 in /usr/local/lib/python3.8/dist-packages (from kaggle) (1.24.3)\n",
            "Requirement already satisfied: certifi in /usr/local/lib/python3.8/dist-packages (from kaggle) (2022.12.7)\n",
            "Requirement already satisfied: requests in /usr/local/lib/python3.8/dist-packages (from kaggle) (2.25.1)\n",
            "Requirement already satisfied: tqdm in /usr/local/lib/python3.8/dist-packages (from kaggle) (4.64.1)\n",
            "Requirement already satisfied: text-unidecode>=1.3 in /usr/local/lib/python3.8/dist-packages (from python-slugify->kaggle) (1.3)\n",
            "Requirement already satisfied: idna<3,>=2.5 in /usr/local/lib/python3.8/dist-packages (from requests->kaggle) (2.10)\n",
            "Requirement already satisfied: chardet<5,>=3.0.2 in /usr/local/lib/python3.8/dist-packages (from requests->kaggle) (4.0.0)\n"
          ]
        }
      ],
      "source": [
        "!pip install kaggle"
      ]
    },
    {
      "cell_type": "code",
      "source": [
        "!mkdir ~/.kaggle"
      ],
      "metadata": {
        "id": "vKJvrD9ucwNT"
      },
      "execution_count": 2,
      "outputs": []
    },
    {
      "cell_type": "code",
      "source": [
        "! cp kaggle.json ~/.kaggle/"
      ],
      "metadata": {
        "id": "hKZqt1Nyc0yk"
      },
      "execution_count": 3,
      "outputs": []
    },
    {
      "cell_type": "code",
      "source": [
        "! cp kaggle.json ~/.kaggle/"
      ],
      "metadata": {
        "id": "PJS3NItvc0wU"
      },
      "execution_count": 4,
      "outputs": []
    },
    {
      "cell_type": "code",
      "source": [
        "! kaggle competitions download -c godaddy-microbusiness-density-forecasting"
      ],
      "metadata": {
        "colab": {
          "base_uri": "https://localhost:8080/"
        },
        "id": "-Kg5ObtDc0tl",
        "outputId": "39cc88c1-78d5-4ee6-b8bb-94b87cb689af"
      },
      "execution_count": 5,
      "outputs": [
        {
          "output_type": "stream",
          "name": "stdout",
          "text": [
            "Warning: Your Kaggle API key is readable by other users on this system! To fix this, you can run 'chmod 600 /root/.kaggle/kaggle.json'\n",
            "Downloading godaddy-microbusiness-density-forecasting.zip to /content\n",
            "  0% 0.00/1.74M [00:00<?, ?B/s]\n",
            "100% 1.74M/1.74M [00:00<00:00, 125MB/s]\n"
          ]
        }
      ]
    },
    {
      "cell_type": "code",
      "source": [
        "! unzip godaddy-microbusiness-density-forecasting.zip"
      ],
      "metadata": {
        "colab": {
          "base_uri": "https://localhost:8080/"
        },
        "id": "UCxzPfbMc0rK",
        "outputId": "92453d58-2bb1-4c85-c12d-22355e56a749"
      },
      "execution_count": 6,
      "outputs": [
        {
          "output_type": "stream",
          "name": "stdout",
          "text": [
            "Archive:  godaddy-microbusiness-density-forecasting.zip\n",
            "  inflating: census_starter.csv      \n",
            "  inflating: sample_submission.csv   \n",
            "  inflating: test.csv                \n",
            "  inflating: train.csv               \n"
          ]
        }
      ]
    },
    {
      "cell_type": "code",
      "source": [
        "import numpy as np\n",
        "import pandas as pd\n",
        "import seaborn as sns\n",
        "import matplotlib.pyplot as plt\n",
        "import os\n",
        "#for dirname, _, filenames in os.walk('/kaggle/input'):\n",
        " #   for filename in filenames:\n",
        "  #      print(os.path.join(dirname, filename))\n",
        "from xgboost import XGBRegressor"
      ],
      "metadata": {
        "id": "K2g7o6N2c0o5"
      },
      "execution_count": 7,
      "outputs": []
    },
    {
      "cell_type": "code",
      "source": [
        "table1 = pd.read_csv('/content/census_starter.csv')\n",
        "table1.head()"
      ],
      "metadata": {
        "colab": {
          "base_uri": "https://localhost:8080/",
          "height": 299
        },
        "id": "4mPg1xelc0lM",
        "outputId": "282f471b-898b-49b9-e59f-87180ae4126e"
      },
      "execution_count": 8,
      "outputs": [
        {
          "output_type": "execute_result",
          "data": {
            "text/plain": [
              "   pct_bb_2017  pct_bb_2018  pct_bb_2019  pct_bb_2020  pct_bb_2021  cfips  \\\n",
              "0         76.6         78.9         80.6         82.7         85.5   1001   \n",
              "1         74.5         78.1         81.8         85.1         87.9   1003   \n",
              "2         57.2         60.4         60.5         64.6         64.6   1005   \n",
              "3         62.0         66.1         69.2         76.1         74.6   1007   \n",
              "4         65.8         68.5         73.0         79.6         81.0   1009   \n",
              "\n",
              "   pct_college_2017  pct_college_2018  pct_college_2019  pct_college_2020  \\\n",
              "0              14.5              15.9              16.1              16.7   \n",
              "1              20.4              20.7              21.0              20.2   \n",
              "2               7.6               7.8               7.6               7.3   \n",
              "3               8.1               7.6               6.5               7.4   \n",
              "4               8.7               8.1               8.6               8.9   \n",
              "\n",
              "   ...  pct_it_workers_2017  pct_it_workers_2018  pct_it_workers_2019  \\\n",
              "0  ...                  1.3                  1.1                  0.7   \n",
              "1  ...                  1.4                  1.3                  1.4   \n",
              "2  ...                  0.5                  0.3                  0.8   \n",
              "3  ...                  1.2                  1.4                  1.6   \n",
              "4  ...                  1.3                  1.4                  0.9   \n",
              "\n",
              "   pct_it_workers_2020  pct_it_workers_2021  median_hh_inc_2017  \\\n",
              "0                  0.6                  1.1               55317   \n",
              "1                  1.0                  1.3               52562   \n",
              "2                  1.1                  0.8               33368   \n",
              "3                  1.7                  2.1               43404   \n",
              "4                  1.1                  0.9               47412   \n",
              "\n",
              "   median_hh_inc_2018  median_hh_inc_2019  median_hh_inc_2020  \\\n",
              "0             58786.0               58731             57982.0   \n",
              "1             55962.0               58320             61756.0   \n",
              "2             34186.0               32525             34990.0   \n",
              "3             45340.0               47542             51721.0   \n",
              "4             48695.0               49358             48922.0   \n",
              "\n",
              "   median_hh_inc_2021  \n",
              "0             62660.0  \n",
              "1             64346.0  \n",
              "2             36422.0  \n",
              "3             54277.0  \n",
              "4             52830.0  \n",
              "\n",
              "[5 rows x 26 columns]"
            ],
            "text/html": [
              "\n",
              "  <div id=\"df-5e41bec9-c0c0-4bec-a0ee-673b95b28e81\">\n",
              "    <div class=\"colab-df-container\">\n",
              "      <div>\n",
              "<style scoped>\n",
              "    .dataframe tbody tr th:only-of-type {\n",
              "        vertical-align: middle;\n",
              "    }\n",
              "\n",
              "    .dataframe tbody tr th {\n",
              "        vertical-align: top;\n",
              "    }\n",
              "\n",
              "    .dataframe thead th {\n",
              "        text-align: right;\n",
              "    }\n",
              "</style>\n",
              "<table border=\"1\" class=\"dataframe\">\n",
              "  <thead>\n",
              "    <tr style=\"text-align: right;\">\n",
              "      <th></th>\n",
              "      <th>pct_bb_2017</th>\n",
              "      <th>pct_bb_2018</th>\n",
              "      <th>pct_bb_2019</th>\n",
              "      <th>pct_bb_2020</th>\n",
              "      <th>pct_bb_2021</th>\n",
              "      <th>cfips</th>\n",
              "      <th>pct_college_2017</th>\n",
              "      <th>pct_college_2018</th>\n",
              "      <th>pct_college_2019</th>\n",
              "      <th>pct_college_2020</th>\n",
              "      <th>...</th>\n",
              "      <th>pct_it_workers_2017</th>\n",
              "      <th>pct_it_workers_2018</th>\n",
              "      <th>pct_it_workers_2019</th>\n",
              "      <th>pct_it_workers_2020</th>\n",
              "      <th>pct_it_workers_2021</th>\n",
              "      <th>median_hh_inc_2017</th>\n",
              "      <th>median_hh_inc_2018</th>\n",
              "      <th>median_hh_inc_2019</th>\n",
              "      <th>median_hh_inc_2020</th>\n",
              "      <th>median_hh_inc_2021</th>\n",
              "    </tr>\n",
              "  </thead>\n",
              "  <tbody>\n",
              "    <tr>\n",
              "      <th>0</th>\n",
              "      <td>76.6</td>\n",
              "      <td>78.9</td>\n",
              "      <td>80.6</td>\n",
              "      <td>82.7</td>\n",
              "      <td>85.5</td>\n",
              "      <td>1001</td>\n",
              "      <td>14.5</td>\n",
              "      <td>15.9</td>\n",
              "      <td>16.1</td>\n",
              "      <td>16.7</td>\n",
              "      <td>...</td>\n",
              "      <td>1.3</td>\n",
              "      <td>1.1</td>\n",
              "      <td>0.7</td>\n",
              "      <td>0.6</td>\n",
              "      <td>1.1</td>\n",
              "      <td>55317</td>\n",
              "      <td>58786.0</td>\n",
              "      <td>58731</td>\n",
              "      <td>57982.0</td>\n",
              "      <td>62660.0</td>\n",
              "    </tr>\n",
              "    <tr>\n",
              "      <th>1</th>\n",
              "      <td>74.5</td>\n",
              "      <td>78.1</td>\n",
              "      <td>81.8</td>\n",
              "      <td>85.1</td>\n",
              "      <td>87.9</td>\n",
              "      <td>1003</td>\n",
              "      <td>20.4</td>\n",
              "      <td>20.7</td>\n",
              "      <td>21.0</td>\n",
              "      <td>20.2</td>\n",
              "      <td>...</td>\n",
              "      <td>1.4</td>\n",
              "      <td>1.3</td>\n",
              "      <td>1.4</td>\n",
              "      <td>1.0</td>\n",
              "      <td>1.3</td>\n",
              "      <td>52562</td>\n",
              "      <td>55962.0</td>\n",
              "      <td>58320</td>\n",
              "      <td>61756.0</td>\n",
              "      <td>64346.0</td>\n",
              "    </tr>\n",
              "    <tr>\n",
              "      <th>2</th>\n",
              "      <td>57.2</td>\n",
              "      <td>60.4</td>\n",
              "      <td>60.5</td>\n",
              "      <td>64.6</td>\n",
              "      <td>64.6</td>\n",
              "      <td>1005</td>\n",
              "      <td>7.6</td>\n",
              "      <td>7.8</td>\n",
              "      <td>7.6</td>\n",
              "      <td>7.3</td>\n",
              "      <td>...</td>\n",
              "      <td>0.5</td>\n",
              "      <td>0.3</td>\n",
              "      <td>0.8</td>\n",
              "      <td>1.1</td>\n",
              "      <td>0.8</td>\n",
              "      <td>33368</td>\n",
              "      <td>34186.0</td>\n",
              "      <td>32525</td>\n",
              "      <td>34990.0</td>\n",
              "      <td>36422.0</td>\n",
              "    </tr>\n",
              "    <tr>\n",
              "      <th>3</th>\n",
              "      <td>62.0</td>\n",
              "      <td>66.1</td>\n",
              "      <td>69.2</td>\n",
              "      <td>76.1</td>\n",
              "      <td>74.6</td>\n",
              "      <td>1007</td>\n",
              "      <td>8.1</td>\n",
              "      <td>7.6</td>\n",
              "      <td>6.5</td>\n",
              "      <td>7.4</td>\n",
              "      <td>...</td>\n",
              "      <td>1.2</td>\n",
              "      <td>1.4</td>\n",
              "      <td>1.6</td>\n",
              "      <td>1.7</td>\n",
              "      <td>2.1</td>\n",
              "      <td>43404</td>\n",
              "      <td>45340.0</td>\n",
              "      <td>47542</td>\n",
              "      <td>51721.0</td>\n",
              "      <td>54277.0</td>\n",
              "    </tr>\n",
              "    <tr>\n",
              "      <th>4</th>\n",
              "      <td>65.8</td>\n",
              "      <td>68.5</td>\n",
              "      <td>73.0</td>\n",
              "      <td>79.6</td>\n",
              "      <td>81.0</td>\n",
              "      <td>1009</td>\n",
              "      <td>8.7</td>\n",
              "      <td>8.1</td>\n",
              "      <td>8.6</td>\n",
              "      <td>8.9</td>\n",
              "      <td>...</td>\n",
              "      <td>1.3</td>\n",
              "      <td>1.4</td>\n",
              "      <td>0.9</td>\n",
              "      <td>1.1</td>\n",
              "      <td>0.9</td>\n",
              "      <td>47412</td>\n",
              "      <td>48695.0</td>\n",
              "      <td>49358</td>\n",
              "      <td>48922.0</td>\n",
              "      <td>52830.0</td>\n",
              "    </tr>\n",
              "  </tbody>\n",
              "</table>\n",
              "<p>5 rows × 26 columns</p>\n",
              "</div>\n",
              "      <button class=\"colab-df-convert\" onclick=\"convertToInteractive('df-5e41bec9-c0c0-4bec-a0ee-673b95b28e81')\"\n",
              "              title=\"Convert this dataframe to an interactive table.\"\n",
              "              style=\"display:none;\">\n",
              "        \n",
              "  <svg xmlns=\"http://www.w3.org/2000/svg\" height=\"24px\"viewBox=\"0 0 24 24\"\n",
              "       width=\"24px\">\n",
              "    <path d=\"M0 0h24v24H0V0z\" fill=\"none\"/>\n",
              "    <path d=\"M18.56 5.44l.94 2.06.94-2.06 2.06-.94-2.06-.94-.94-2.06-.94 2.06-2.06.94zm-11 1L8.5 8.5l.94-2.06 2.06-.94-2.06-.94L8.5 2.5l-.94 2.06-2.06.94zm10 10l.94 2.06.94-2.06 2.06-.94-2.06-.94-.94-2.06-.94 2.06-2.06.94z\"/><path d=\"M17.41 7.96l-1.37-1.37c-.4-.4-.92-.59-1.43-.59-.52 0-1.04.2-1.43.59L10.3 9.45l-7.72 7.72c-.78.78-.78 2.05 0 2.83L4 21.41c.39.39.9.59 1.41.59.51 0 1.02-.2 1.41-.59l7.78-7.78 2.81-2.81c.8-.78.8-2.07 0-2.86zM5.41 20L4 18.59l7.72-7.72 1.47 1.35L5.41 20z\"/>\n",
              "  </svg>\n",
              "      </button>\n",
              "      \n",
              "  <style>\n",
              "    .colab-df-container {\n",
              "      display:flex;\n",
              "      flex-wrap:wrap;\n",
              "      gap: 12px;\n",
              "    }\n",
              "\n",
              "    .colab-df-convert {\n",
              "      background-color: #E8F0FE;\n",
              "      border: none;\n",
              "      border-radius: 50%;\n",
              "      cursor: pointer;\n",
              "      display: none;\n",
              "      fill: #1967D2;\n",
              "      height: 32px;\n",
              "      padding: 0 0 0 0;\n",
              "      width: 32px;\n",
              "    }\n",
              "\n",
              "    .colab-df-convert:hover {\n",
              "      background-color: #E2EBFA;\n",
              "      box-shadow: 0px 1px 2px rgba(60, 64, 67, 0.3), 0px 1px 3px 1px rgba(60, 64, 67, 0.15);\n",
              "      fill: #174EA6;\n",
              "    }\n",
              "\n",
              "    [theme=dark] .colab-df-convert {\n",
              "      background-color: #3B4455;\n",
              "      fill: #D2E3FC;\n",
              "    }\n",
              "\n",
              "    [theme=dark] .colab-df-convert:hover {\n",
              "      background-color: #434B5C;\n",
              "      box-shadow: 0px 1px 3px 1px rgba(0, 0, 0, 0.15);\n",
              "      filter: drop-shadow(0px 1px 2px rgba(0, 0, 0, 0.3));\n",
              "      fill: #FFFFFF;\n",
              "    }\n",
              "  </style>\n",
              "\n",
              "      <script>\n",
              "        const buttonEl =\n",
              "          document.querySelector('#df-5e41bec9-c0c0-4bec-a0ee-673b95b28e81 button.colab-df-convert');\n",
              "        buttonEl.style.display =\n",
              "          google.colab.kernel.accessAllowed ? 'block' : 'none';\n",
              "\n",
              "        async function convertToInteractive(key) {\n",
              "          const element = document.querySelector('#df-5e41bec9-c0c0-4bec-a0ee-673b95b28e81');\n",
              "          const dataTable =\n",
              "            await google.colab.kernel.invokeFunction('convertToInteractive',\n",
              "                                                     [key], {});\n",
              "          if (!dataTable) return;\n",
              "\n",
              "          const docLinkHtml = 'Like what you see? Visit the ' +\n",
              "            '<a target=\"_blank\" href=https://colab.research.google.com/notebooks/data_table.ipynb>data table notebook</a>'\n",
              "            + ' to learn more about interactive tables.';\n",
              "          element.innerHTML = '';\n",
              "          dataTable['output_type'] = 'display_data';\n",
              "          await google.colab.output.renderOutput(dataTable, element);\n",
              "          const docLink = document.createElement('div');\n",
              "          docLink.innerHTML = docLinkHtml;\n",
              "          element.appendChild(docLink);\n",
              "        }\n",
              "      </script>\n",
              "    </div>\n",
              "  </div>\n",
              "  "
            ]
          },
          "metadata": {},
          "execution_count": 8
        }
      ]
    },
    {
      "cell_type": "code",
      "source": [],
      "metadata": {
        "id": "9efmKXVad53n"
      },
      "execution_count": null,
      "outputs": []
    },
    {
      "cell_type": "code",
      "source": [],
      "metadata": {
        "id": "TPVnSozDd51D"
      },
      "execution_count": null,
      "outputs": []
    },
    {
      "cell_type": "code",
      "source": [],
      "metadata": {
        "id": "QtOaHtp7d5yf"
      },
      "execution_count": null,
      "outputs": []
    },
    {
      "cell_type": "code",
      "source": [],
      "metadata": {
        "id": "RnNL4QLPd5wY"
      },
      "execution_count": null,
      "outputs": []
    },
    {
      "cell_type": "code",
      "source": [],
      "metadata": {
        "id": "wN7GZqK-d5t7"
      },
      "execution_count": null,
      "outputs": []
    },
    {
      "cell_type": "code",
      "source": [],
      "metadata": {
        "id": "LmgBAf3yd5rh"
      },
      "execution_count": null,
      "outputs": []
    },
    {
      "cell_type": "code",
      "source": [],
      "metadata": {
        "id": "2jsReJ35d5pA"
      },
      "execution_count": null,
      "outputs": []
    }
  ]
}